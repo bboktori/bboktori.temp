{
 "cells": [
  {
   "cell_type": "markdown",
   "metadata": {},
   "source": [
    "YYYY-MM-DD-제목.md"
   ]
  },
  {
   "cell_type": "markdown",
   "metadata": {},
   "source": [
    "# 1. Jekyll 기반 GitHub Blog 생성"
   ]
  },
  {
   "cell_type": "markdown",
   "metadata": {},
   "source": [
    "1. GitHub 계정 생성\\\n",
    "https://github.com/"
   ]
  },
  {
   "cell_type": "markdown",
   "metadata": {},
   "source": [
    "3. Jekyll fork \\\n",
    "http://jekyllthemes.org/"
   ]
  },
  {
   "cell_type": "markdown",
   "metadata": {},
   "source": [
    "4. fork repository 명 계정.github.id 으로 변경 \\\n",
    "GitHub repository - Settings - Repository name Rename"
   ]
  },
  {
   "cell_type": "markdown",
   "metadata": {},
   "source": [
    "2. GitHub Desktop 설치 및 환경변수 설정 \\\n",
    "https://desktop.github.com/ \\\n",
    "한경변수 Path : C:\\Users\\\\{계정}\\AppData\\Local\\GitHubDesktop\\app-2.1.0\\resources\\app\\git\\cmd"
   ]
  },
  {
   "cell_type": "markdown",
   "metadata": {},
   "source": [
    "5. Local Git 셋업 하기\n",
    "> git clone http://github.com/bboktori/bboktori.github.io.git"
   ]
  },
  {
   "cell_type": "code",
   "execution_count": null,
   "metadata": {},
   "outputs": [],
   "source": []
  },
  {
   "cell_type": "markdown",
   "metadata": {},
   "source": [
    "# 2. JupyterLab 설정"
   ]
  },
  {
   "cell_type": "markdown",
   "metadata": {},
   "source": [
    "1. Python 설치\\\n",
    "https://www.python.org/downloads/ \\\n",
    "설치 중 환경변수 Path 추가 : Add Python 3.x Path\\\n",
    "또는 환경변수 Path 추가 :\n",
    "> C:\\Users\\\\{계정}\\AppData\\Local\\Programs\\Python\\Python37-32 \\\n",
    "  C:\\Users\\\\{계정}\\AppData\\Local\\Programs\\Python\\Python37-32\\Scripts"
   ]
  },
  {
   "cell_type": "markdown",
   "metadata": {},
   "source": [
    "2. JupyterLab 설치\\\n",
    "> pip install jupyerlab"
   ]
  },
  {
   "cell_type": "markdown",
   "metadata": {},
   "source": [
    "3. NBConvert 설치\n",
    "command 실행\n",
    "> pip install nbconvert"
   ]
  },
  {
   "cell_type": "markdown",
   "metadata": {},
   "source": [
    "4. Jupyter (.ipynb) → Jekyll (.md) 변환 스크립트 작성 \\\n",
    "post.bat 파일 생성\n",
    "> jupyter nbconvert --to markdown _ipynbs/*.ipynb --output-dir=_posts"
   ]
  },
  {
   "cell_type": "code",
   "execution_count": null,
   "metadata": {},
   "outputs": [],
   "source": [
    "git add --all\n",
    "\n",
    "git commit -m \"Initial commit\"\n",
    "\n",
    "git push -u origin master\n",
    "\n"
   ]
  }
 ],
 "metadata": {
  "kernelspec": {
   "display_name": "Python 3",
   "language": "python",
   "name": "python3"
  },
  "language_info": {
   "codemirror_mode": {
    "name": "ipython",
    "version": 3
   },
   "file_extension": ".py",
   "mimetype": "text/x-python",
   "name": "python",
   "nbconvert_exporter": "python",
   "pygments_lexer": "ipython3",
   "version": "3.7.3"
  }
 },
 "nbformat": 4,
 "nbformat_minor": 4
}
